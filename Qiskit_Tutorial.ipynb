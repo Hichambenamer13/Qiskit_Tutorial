{
 "cells": [
  {
   "cell_type": "markdown",
   "id": "ea3f296b",
   "metadata": {},
   "source": [
    "# Quantum Computing with Qiskit — Hands‑On Notebook\n",
    "\n",
    "Welcome! This notebook takes you from **zero to running real quantum code** with Qiskit.\n",
    "It mixes short explanations with runnable code cells and plots.\n",
    "\n",
    "**What you'll learn:**\n",
    "- Install and import the modern Qiskit stack\n",
    "- Build and visualize circuits\n",
    "- Prepare states, measure, and interpret statistics\n",
    "- Use common single- and multi-qubit gates\n",
    "- Implement classic algorithms (Deutsch–Jozsa, Grover, QFT)\n",
    "- (Optional) Connect to IBM Quantum hardware\n",
    "\n",
    "> This notebook follows the **modern Qiskit packaging** (2024+):\n",
    "> - `qiskit_aer` for simulators\n",
    "> - `backend.run(...)` instead of `execute(...)`\n",
    "> - (Optional) `qiskit-ibm-runtime` for IBM Quantum access\n"
   ]
  },
  {
   "cell_type": "markdown",
   "id": "6cfe6aa6",
   "metadata": {},
   "source": [
    "## 1. Installation\n",
    "\n",
    "Run the next cell **once** to install the necessary packages (skip if you already have them).\n"
   ]
  },
  {
   "cell_type": "code",
   "execution_count": null,
   "id": "e84d15f4",
   "metadata": {},
   "outputs": [],
   "source": [
    "# If needed, uncomment and run these lines in your environment:\n",
    "# !pip install -U qiskit qiskit-aer matplotlib\n",
    "# Optional for IBM Quantum access:\n",
    "# !pip install -U qiskit-ibm-runtime\n"
   ]
  },
  {
   "cell_type": "markdown",
   "id": "fef0cd6f",
   "metadata": {},
   "source": [
    "## 2. Imports and Version Check"
   ]
  },
  {
   "cell_type": "code",
   "execution_count": null,
   "id": "dec53633",
   "metadata": {},
   "outputs": [],
   "source": [
    "from qiskit import QuantumCircuit\n",
    "from qiskit_aer import Aer\n",
    "from qiskit.visualization import plot_histogram\n",
    "import numpy as np\n",
    "\n",
    "# Optional: show Qiskit component versions\n",
    "import qiskit\n",
    "print(\"Qiskit components:\", getattr(qiskit, \"__qiskit_version__\", \"unknown\"))"
   ]
  },
  {
   "cell_type": "markdown",
   "id": "b2143303",
   "metadata": {},
   "source": [
    "## 3. Quantum vs Classical — Quick Primer\n",
    "\n",
    "- **Bits vs Qubits:** Bits are `0` or `1`. Qubits can be in **superposition**: \\(|\\psi\\rangle = \\alpha|0\\rangle + \\beta|1\\rangle\\).\n",
    "- **Entanglement:** Multi-qubit states can have correlations impossible in classical systems.\n",
    "- **Measurement:** Collapses a state to a classical outcome with probabilities given by squared amplitudes.\n"
   ]
  },
  {
   "cell_type": "markdown",
   "id": "9011e8fb",
   "metadata": {},
   "source": [
    "## 4. Your First Circuit — Superposition and Measurement"
   ]
  },
  {
   "cell_type": "code",
   "execution_count": null,
   "id": "595e5098",
   "metadata": {},
   "outputs": [],
   "source": [
    "# Create a 1-qubit circuit that makes a superposition and measures it\n",
    "from qiskit import QuantumCircuit\n",
    "from qiskit_aer import Aer\n",
    "\n",
    "qc = QuantumCircuit(1)\n",
    "qc.h(0)          # Hadamard -> (|0> + |1>)/sqrt(2)\n",
    "qc.measure_all() # Measure\n",
    "\n",
    "# Visualize the circuit (requires matplotlib)\n",
    "qc.draw('mpl')"
   ]
  },
  {
   "cell_type": "code",
   "execution_count": null,
   "id": "9ac3bab1",
   "metadata": {},
   "outputs": [],
   "source": [
    "# Run on the QASM simulator and view histogram of outcomes\n",
    "backend = Aer.get_backend('qasm_simulator')\n",
    "job = backend.run(qc, shots=1024)\n",
    "result = job.result()\n",
    "counts = result.get_counts()\n",
    "plot_histogram(counts)"
   ]
  },
  {
   "cell_type": "markdown",
   "id": "24e0148e",
   "metadata": {},
   "source": [
    "## 5. Custom State Initialization\n",
    "\n",
    "You can directly initialize a qubit to any normalized state vector, e.g. \\( (|0\\rangle + |1\\rangle)/\\sqrt{2} \\).\n"
   ]
  },
  {
   "cell_type": "code",
   "execution_count": null,
   "id": "a7cf232c",
   "metadata": {},
   "outputs": [],
   "source": [
    "initial_state = [1/np.sqrt(2), 1/np.sqrt(2)]  # α|0> + β|1>, with α=β=1/√2\n",
    "\n",
    "qc = QuantumCircuit(1)\n",
    "qc.initialize(initial_state, 0)\n",
    "qc.measure_all()\n",
    "\n",
    "backend = Aer.get_backend('qasm_simulator')\n",
    "job = backend.run(qc, shots=1024)\n",
    "result = job.result()\n",
    "counts = result.get_counts()\n",
    "plot_histogram(counts)"
   ]
  },
  {
   "cell_type": "markdown",
   "id": "aee934d3",
   "metadata": {},
   "source": [
    "## 6. Single‑Qubit Gates — X, Y, Z, H, S, T"
   ]
  },
  {
   "cell_type": "code",
   "execution_count": null,
   "id": "4b254198",
   "metadata": {},
   "outputs": [],
   "source": [
    "qc = QuantumCircuit(1)\n",
    "qc.x(0)  # NOT\n",
    "qc.h(0)  # Hadamard\n",
    "qc.s(0)  # Phase (π/2)\n",
    "qc.t(0)  # Phase (π/4)\n",
    "qc.measure_all()\n",
    "qc.draw('mpl')"
   ]
  },
  {
   "cell_type": "code",
   "execution_count": null,
   "id": "34dfd494",
   "metadata": {},
   "outputs": [],
   "source": [
    "backend = Aer.get_backend('qasm_simulator')\n",
    "job = backend.run(qc, shots=1024)\n",
    "counts = job.result().get_counts()\n",
    "plot_histogram(counts)"
   ]
  },
  {
   "cell_type": "markdown",
   "id": "0c951f27",
   "metadata": {},
   "source": [
    "## 7. Multi‑Qubit Gates — CNOT, SWAP, Toffoli — and Entanglement\n",
    "\n",
    "Create a Bell state using H + CNOT and observe ~50/50 correlation in outcomes.\n"
   ]
  },
  {
   "cell_type": "code",
   "execution_count": null,
   "id": "1cf3ea40",
   "metadata": {},
   "outputs": [],
   "source": [
    "qc = QuantumCircuit(2)\n",
    "qc.h(0)\n",
    "qc.cx(0, 1)   # Entangle\n",
    "qc.measure_all()\n",
    "qc.draw('mpl')"
   ]
  },
  {
   "cell_type": "code",
   "execution_count": null,
   "id": "57417754",
   "metadata": {},
   "outputs": [],
   "source": [
    "backend = Aer.get_backend('qasm_simulator')\n",
    "job = backend.run(qc, shots=2048)\n",
    "counts = job.result().get_counts()\n",
    "plot_histogram(counts)  # Expect mostly '00' and '11'"
   ]
  },
  {
   "cell_type": "markdown",
   "id": "303f3311",
   "metadata": {},
   "source": [
    "## 8. Controlled Operations and Toffoli (CCX)"
   ]
  },
  {
   "cell_type": "code",
   "execution_count": null,
   "id": "2be4866a",
   "metadata": {},
   "outputs": [],
   "source": [
    "qc = QuantumCircuit(3)\n",
    "qc.h(0)\n",
    "qc.h(1)\n",
    "qc.ccx(0, 1, 2)  # Toffoli: flips qubit 2 only if 0 and 1 are |1>\n",
    "qc.measure_all()\n",
    "qc.draw('mpl')"
   ]
  },
  {
   "cell_type": "code",
   "execution_count": null,
   "id": "5572f063",
   "metadata": {},
   "outputs": [],
   "source": [
    "backend = Aer.get_backend('qasm_simulator')\n",
    "counts = backend.run(qc, shots=2048).result().get_counts()\n",
    "plot_histogram(counts)"
   ]
  },
  {
   "cell_type": "markdown",
   "id": "b8798c33",
   "metadata": {},
   "source": [
    "## 9. Algorithm: Deutsch–Jozsa (Balanced vs Constant)\n",
    "\n",
    "Detect if a promised function is constant or balanced using a single oracle call.\n"
   ]
  },
  {
   "cell_type": "code",
   "execution_count": null,
   "id": "5cedf18c",
   "metadata": {},
   "outputs": [],
   "source": [
    "from qiskit import QuantumCircuit\n",
    "\n",
    "n = 3                         # number of input qubits\n",
    "qc = QuantumCircuit(n+1, n)   # +1 output qubit\n",
    "qc.x(n)                       # set output to |1>\n",
    "qc.h(range(n+1))              # Hadamards\n",
    "\n",
    "# Example balanced oracle: flip output if x0 == 1\n",
    "qc.cx(0, n)\n",
    "\n",
    "# Interference step\n",
    "qc.h(range(n))\n",
    "qc.measure(range(n), range(n))\n",
    "qc.draw('mpl')"
   ]
  },
  {
   "cell_type": "code",
   "execution_count": null,
   "id": "5b86dfbc",
   "metadata": {},
   "outputs": [],
   "source": [
    "backend = Aer.get_backend('qasm_simulator')\n",
    "counts = backend.run(qc, shots=1024).result().get_counts()\n",
    "plot_histogram(counts)  # If constant -> '000'; balanced -> anything else"
   ]
  },
  {
   "cell_type": "markdown",
   "id": "cc004bc2",
   "metadata": {},
   "source": [
    "## 10. Algorithm: Grover’s Search (Tiny Example)\n",
    "\n",
    "Mark a single solution in a 3‑qubit space and amplify its probability.\n"
   ]
  },
  {
   "cell_type": "code",
   "execution_count": null,
   "id": "013447c4",
   "metadata": {},
   "outputs": [],
   "source": [
    "from qiskit import QuantumCircuit\n",
    "\n",
    "def oracle_mark_101():\n",
    "    o = QuantumCircuit(3)\n",
    "    # Mark |101>: flip phase of |101>\n",
    "    o.x(0); o.x(2)\n",
    "    o.h(2); o.ccx(0,1,2); o.h(2)\n",
    "    o.x(0); o.x(2)\n",
    "    return o\n",
    "\n",
    "def diffusion():\n",
    "    d = QuantumCircuit(3)\n",
    "    d.h(range(3))\n",
    "    d.x(range(3))\n",
    "    d.h(2); d.ccx(0,1,2); d.h(2)\n",
    "    d.x(range(3))\n",
    "    d.h(range(3))\n",
    "    return d\n",
    "\n",
    "qc = QuantumCircuit(3, 3)\n",
    "qc.h(range(3))           # uniform superposition\n",
    "qc.compose(oracle_mark_101(), inplace=True)\n",
    "qc.compose(diffusion(), inplace=True)\n",
    "qc.measure(range(3), range(3))\n",
    "qc.draw('mpl')"
   ]
  },
  {
   "cell_type": "code",
   "execution_count": null,
   "id": "e4340851",
   "metadata": {},
   "outputs": [],
   "source": [
    "backend = Aer.get_backend('qasm_simulator')\n",
    "counts = backend.run(qc, shots=2048).result().get_counts()\n",
    "plot_histogram(counts)   # Peak near '101'"
   ]
  },
  {
   "cell_type": "markdown",
   "id": "95a51244",
   "metadata": {},
   "source": [
    "## 11. Quantum Fourier Transform (QFT) — Helper Circuit"
   ]
  },
  {
   "cell_type": "code",
   "execution_count": null,
   "id": "380449fc",
   "metadata": {},
   "outputs": [],
   "source": [
    "from qiskit import QuantumCircuit\n",
    "import numpy as np\n",
    "\n",
    "def qft(n):\n",
    "    qc = QuantumCircuit(n)\n",
    "    for j in range(n):\n",
    "        qc.h(j)\n",
    "        for k in range(j+1, n):\n",
    "            qc.cp(np.pi / 2**(k-j), k, j)\n",
    "    # bit-reversal (swap) for readability\n",
    "    for i in range(n//2):\n",
    "        qc.swap(i, n-1-i)\n",
    "    return qc\n",
    "\n",
    "qft_circ = qft(3)\n",
    "qft_circ.draw('mpl')"
   ]
  },
  {
   "cell_type": "markdown",
   "id": "79148275",
   "metadata": {},
   "source": [
    "## 12. (Optional) Run on IBM Quantum Hardware — Modern Runtime API\n",
    "\n",
    "To use real devices, install and configure the runtime client:\n",
    "\n",
    "```python\n",
    "# !pip install -U qiskit-ibm-runtime\n",
    "from qiskit_ibm_runtime import QiskitRuntimeService, Sampler\n",
    "\n",
    "# 1) Save your account once (replace with your token)\n",
    "# QiskitRuntimeService.save_account(channel=\"ibm_quantum\", token=\"YOUR_API_TOKEN\", overwrite=True)\n",
    "\n",
    "# 2) Load service and pick a backend\n",
    "# service = QiskitRuntimeService()\n",
    "# backend = service.backend(\"ibm_oslo\")  # example backend name\n",
    "\n",
    "# 3) Submit a job with the Sampler primitive\n",
    "# qc = QuantumCircuit(1); qc.h(0); qc.measure_all()\n",
    "# sampler = Sampler(backend=backend)\n",
    "# job = sampler.run(circuits=qc, shots=1024)\n",
    "# print(job.result().quasi_dists)\n",
    "```\n",
    "\n",
    "> Tip: check your available backends and queue times in the IBM Quantum Platform web UI.\n"
   ]
  },
  {
   "cell_type": "markdown",
   "id": "4fcd8221",
   "metadata": {},
   "source": [
    "## 13. Appendix — Troubleshooting (2024+)\n",
    "\n",
    "- **`cannot import name 'Aer' from 'qiskit'`** → Install and import `qiskit-aer` and use `from qiskit_aer import Aer`.\n",
    "- **`cannot import name 'execute' from 'qiskit'`** → Use `backend.run(...)` or `from qiskit.execute_function import execute`.\n",
    "- **Matplotlib not found** → `pip install matplotlib` and restart kernel.\n",
    "- **Package version check**:\n",
    "```python\n",
    "import qiskit; print(getattr(qiskit, \"__qiskit_version__\", \"unknown\"))\n",
    "```\n"
   ]
  }
 ],
 "metadata": {},
 "nbformat": 4,
 "nbformat_minor": 5
}